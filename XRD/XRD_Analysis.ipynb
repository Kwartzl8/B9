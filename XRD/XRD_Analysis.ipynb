{
 "cells": [
  {
   "attachments": {},
   "cell_type": "markdown",
   "metadata": {},
   "source": [
    "# XRD Analyis"
   ]
  },
  {
   "cell_type": "code",
   "execution_count": 1,
   "metadata": {},
   "outputs": [],
   "source": [
    "import numpy as np\n",
    "import pandas as pd\n",
    "import matplotlib.pyplot as plt\n",
    "import glob\n",
    "import os.path"
   ]
  },
  {
   "cell_type": "code",
   "execution_count": 49,
   "metadata": {},
   "outputs": [
    {
     "ename": "Exception",
     "evalue": "Sorry friend, the file \"BFO\" was found in multiple locations within the subdirectories of c:\\Uni\\B9\\XRD/data\n['annealed\\\\ann2_BFO_sample_2.csv', 'annealed\\\\ann_BFO_sample_1.csv', 'annealed\\\\ann_BFO_sample_3.csv', 'annealed\\\\ann_BFO_sample_4.csv'] \nBe more specific about the file in question or delete any copies you might have.",
     "output_type": "error",
     "traceback": [
      "\u001b[1;31m---------------------------------------------------------------------------\u001b[0m",
      "\u001b[1;31mException\u001b[0m                                 Traceback (most recent call last)",
      "Cell \u001b[1;32mIn[49], line 22\u001b[0m\n\u001b[0;32m     18\u001b[0m             file_paths[found_path[found_path\u001b[39m.\u001b[39mrfind(\u001b[39m\"\u001b[39m\u001b[39m\\\\\u001b[39;00m\u001b[39m\"\u001b[39m)\u001b[39m+\u001b[39m\u001b[39m1\u001b[39m : found_path\u001b[39m.\u001b[39mrfind(\u001b[39m\"\u001b[39m\u001b[39m.\u001b[39m\u001b[39m\"\u001b[39m)]] \u001b[39m=\u001b[39m found_path\n\u001b[0;32m     20\u001b[0m     \u001b[39mreturn\u001b[39;00m file_paths\n\u001b[1;32m---> 22\u001b[0m read_XRD([\u001b[39m\"\u001b[39;49m\u001b[39mSi_substrate.ras\u001b[39;49m\u001b[39m\"\u001b[39;49m, \u001b[39m\"\u001b[39;49m\u001b[39msub_glass\u001b[39;49m\u001b[39m\"\u001b[39;49m, \u001b[39m\"\u001b[39;49m\u001b[39mBFO\u001b[39;49m\u001b[39m\"\u001b[39;49m])\n",
      "Cell \u001b[1;32mIn[49], line 15\u001b[0m, in \u001b[0;36mread_XRD\u001b[1;34m(filenames, header_count, ignore_header_char, rootdir)\u001b[0m\n\u001b[0;32m     12\u001b[0m     \u001b[39mraise\u001b[39;00m \u001b[39mException\u001b[39;00m(\u001b[39mf\u001b[39m\u001b[39m\"\u001b[39m\u001b[39mSorry friend, the file \u001b[39m\u001b[39m\\\"\u001b[39;00m\u001b[39m\"\u001b[39m \u001b[39m+\u001b[39m filename \u001b[39m+\u001b[39m \u001b[39m\"\u001b[39m\u001b[39m\\\"\u001b[39;00m\u001b[39m was not found in any of the subdirectories of \u001b[39m\u001b[39m\"\u001b[39m \u001b[39m+\u001b[39m rootdir)\n\u001b[0;32m     14\u001b[0m \u001b[39mif\u001b[39;00m \u001b[39m1\u001b[39m \u001b[39m<\u001b[39m \u001b[39mlen\u001b[39m(search_results):\n\u001b[1;32m---> 15\u001b[0m     \u001b[39mraise\u001b[39;00m \u001b[39mException\u001b[39;00m(\u001b[39mf\u001b[39m\u001b[39m\"\u001b[39m\u001b[39mSorry friend, the file \u001b[39m\u001b[39m\\\"\u001b[39;00m\u001b[39m\"\u001b[39m \u001b[39m+\u001b[39m filename \u001b[39m+\u001b[39m \u001b[39m\"\u001b[39m\u001b[39m\\\"\u001b[39;00m\u001b[39m was found in multiple locations within the subdirectories of \u001b[39m\u001b[39m\"\u001b[39m\n\u001b[0;32m     16\u001b[0m                     \u001b[39m+\u001b[39m rootdir \u001b[39m+\u001b[39m \u001b[39m\"\u001b[39m\u001b[39m\\n\u001b[39;00m\u001b[39m\"\u001b[39m \u001b[39m+\u001b[39m \u001b[39mstr\u001b[39m(search_results) \u001b[39m+\u001b[39m \u001b[39m\"\u001b[39m\u001b[39m \u001b[39m\u001b[39m\\n\u001b[39;00m\u001b[39mBe more specific about the file in question or delete any copies you might have.\u001b[39m\u001b[39m\"\u001b[39m)\n\u001b[0;32m     17\u001b[0m \u001b[39mfor\u001b[39;00m found_path \u001b[39min\u001b[39;00m glob\u001b[39m.\u001b[39mglob(\u001b[39m\"\u001b[39m\u001b[39m**/*\u001b[39m\u001b[39m\"\u001b[39m \u001b[39m+\u001b[39m filename \u001b[39m+\u001b[39m \u001b[39m\"\u001b[39m\u001b[39m*\u001b[39m\u001b[39m\"\u001b[39m, recursive\u001b[39m=\u001b[39m\u001b[39mTrue\u001b[39;00m, root_dir\u001b[39m=\u001b[39mrootdir):\n\u001b[0;32m     18\u001b[0m     file_paths[found_path[found_path\u001b[39m.\u001b[39mrfind(\u001b[39m\"\u001b[39m\u001b[39m\\\\\u001b[39;00m\u001b[39m\"\u001b[39m)\u001b[39m+\u001b[39m\u001b[39m1\u001b[39m : found_path\u001b[39m.\u001b[39mrfind(\u001b[39m\"\u001b[39m\u001b[39m.\u001b[39m\u001b[39m\"\u001b[39m)]] \u001b[39m=\u001b[39m found_path\n",
      "\u001b[1;31mException\u001b[0m: Sorry friend, the file \"BFO\" was found in multiple locations within the subdirectories of c:\\Uni\\B9\\XRD/data\n['annealed\\\\ann2_BFO_sample_2.csv', 'annealed\\\\ann_BFO_sample_1.csv', 'annealed\\\\ann_BFO_sample_3.csv', 'annealed\\\\ann_BFO_sample_4.csv'] \nBe more specific about the file in question or delete any copies you might have."
     ]
    }
   ],
   "source": [
    "def read_XRD(filenames, header_count=26, ignore_header_char=\"\", rootdir=os.getcwd() + \"/data\"):\n",
    "\n",
    "    if isinstance(filenames, list) == False:\n",
    "        filenames = [filenames]\n",
    "    \n",
    "    file_paths = {}\n",
    "    for filename in filenames:\n",
    "        # filenames have to be unique, as this searches all subdirectories from the root directory\n",
    "        search_results = glob.glob(\"**/*\" + filename + \"*\", recursive=True, root_dir=rootdir)\n",
    "\n",
    "        if 0 == len(search_results):\n",
    "            raise Exception(f\"Sorry friend, the file \\\"\" + filename + \"\\\" was not found in any of the subdirectories of \" + rootdir)\n",
    "        \n",
    "        if 1 < len(search_results):\n",
    "            raise Exception(f\"Sorry friend, the file \\\"\" + filename + \"\\\" was found in multiple locations within the subdirectories of \"\n",
    "                            + rootdir + \"\\n\" + str(search_results) + \" \\nBe more specific about the file in question or delete any copies you might have.\")\n",
    "        \n",
    "        # get the one found path\n",
    "        found_path = glob.glob(\"**/*\" + filename + \"*\", recursive=True, root_dir=rootdir)[0]\n",
    "        file_paths[found_path[found_path.rfind(\"\\\\\")+1 : found_path.rfind(\".\")]] = found_path\n",
    "\n",
    "        return file_paths\n",
    "\n",
    "read_XRD([\"Si_substrate.ras\", \"sub_glass\", \"BFO\"])"
   ]
  },
  {
   "cell_type": "code",
   "execution_count": null,
   "metadata": {},
   "outputs": [],
   "source": []
  }
 ],
 "metadata": {
  "kernelspec": {
   "display_name": "Python 3",
   "language": "python",
   "name": "python3"
  },
  "language_info": {
   "codemirror_mode": {
    "name": "ipython",
    "version": 3
   },
   "file_extension": ".py",
   "mimetype": "text/x-python",
   "name": "python",
   "nbconvert_exporter": "python",
   "pygments_lexer": "ipython3",
   "version": "3.11.2"
  },
  "orig_nbformat": 4
 },
 "nbformat": 4,
 "nbformat_minor": 2
}
