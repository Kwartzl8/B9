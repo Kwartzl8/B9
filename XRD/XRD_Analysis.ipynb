{
 "cells": [
  {
   "attachments": {},
   "cell_type": "markdown",
   "metadata": {},
   "source": [
    "# XRD Analysis"
   ]
  },
  {
   "cell_type": "code",
   "execution_count": 2,
   "metadata": {},
   "outputs": [],
   "source": [
    "import numpy as np\n",
    "import pandas as pd\n",
    "import matplotlib.pyplot as plt\n",
    "import glob\n",
    "import os.path"
   ]
  },
  {
   "cell_type": "code",
   "execution_count": 57,
   "metadata": {},
   "outputs": [
    {
     "data": {
      "text/plain": [
       "{'peaks_BFO':     2THETA  INTENSITY\n",
       " 0    19.46        0.0\n",
       " 1    22.43      853.0\n",
       " 2    22.43      853.0\n",
       " 3    22.43      853.0\n",
       " 4    31.76      998.9\n",
       " 5    31.76      998.9\n",
       " 6    31.76      998.9\n",
       " 7    32.09     1000.0\n",
       " 8    32.09     1000.0\n",
       " 9    32.09     1000.0\n",
       " 10   37.38        0.0\n",
       " 11   37.66        6.2\n",
       " 12   37.66        6.2\n",
       " 13   37.66        6.2\n",
       " 14   37.66        6.2\n",
       " 15   37.66        6.2\n",
       " 16   37.66        6.2\n",
       " 17   37.80        0.0\n",
       " 18   38.96      262.7\n",
       " 19   39.50      300.9\n",
       " 20   39.50      300.9\n",
       " 21   39.50      300.9\n",
       " 22   45.78      424.4\n",
       " 23   45.78      424.4\n",
       " 24   45.78      424.4\n",
       " 25   49.74        0.0\n",
       " 26   50.07        0.0\n",
       " 27   50.41        1.5\n",
       " 28   50.41        1.5\n",
       " 29   50.41        1.5\n",
       " 30   50.41        1.5\n",
       " 31   50.41        1.5\n",
       " 32   50.41        1.5\n",
       " 33   51.33      156.8\n",
       " 34   51.33      156.8\n",
       " 35   51.33      156.8\n",
       " 36   51.33      156.8\n",
       " 37   51.33      156.8\n",
       " 38   51.33      156.8\n",
       " 39   51.77       83.6\n",
       " 40   51.77       83.6\n",
       " 41   51.77       83.6\n",
       " 42   51.77       83.6\n",
       " 43   51.77       83.6\n",
       " 44   51.77       83.6\n",
       " 45   56.38      153.6\n",
       " 46   56.38      153.6\n",
       " 47   56.38      153.6\n",
       " 48   57.00      180.2\n",
       " 49   57.00      180.2\n",
       " 50   57.00      180.2\n",
       " 51   57.00      180.2\n",
       " 52   57.00      180.2\n",
       " 53   57.00      180.2\n",
       " 54   57.20      196.1\n",
       " 55   57.20      196.1\n",
       " 56   57.20      196.1,\n",
       " 'peaks_Bi2Fe4O9':      2THETA  INTENSITY\n",
       " 0     14.76     1000.0\n",
       " 1     15.29       21.6\n",
       " 2     15.29       21.6\n",
       " 3     21.05      219.2\n",
       " 4     21.32        6.6\n",
       " ..      ...        ...\n",
       " 198   59.47        5.8\n",
       " 199   59.87        1.1\n",
       " 200   59.87        1.1\n",
       " 201   59.87        1.1\n",
       " 202   59.87        1.1\n",
       " \n",
       " [203 rows x 2 columns]}"
      ]
     },
     "execution_count": 57,
     "metadata": {},
     "output_type": "execute_result"
    }
   ],
   "source": [
    "def get_filepaths(filenames, rootdir=os.getcwd() + \"/data/\"):\n",
    "    if \"/\" != rootdir[-1]:\n",
    "        rootdir = rootdir + \"/\"\n",
    "\n",
    "    if isinstance(filenames, list) == False:\n",
    "        filenames = [filenames]\n",
    "    \n",
    "    # get valid filepaths\n",
    "    file_paths = {}\n",
    "    for filename in filenames:\n",
    "        # filenames have to be unique, as this searches all subdirectories from the root directory\n",
    "        search_results = glob.glob(\"**/*\" + filename + \"*\", recursive=True, root_dir=rootdir)\n",
    "\n",
    "        if 0 == len(search_results):\n",
    "            raise Exception(f\"Sorry friend, the file \\\"\" + filename + \"\\\" was not found in any of the subdirectories of \" + rootdir)\n",
    "        \n",
    "        if 1 < len(search_results):\n",
    "            raise Exception(f\"Sorry friend, the file \\\"\" + filename + \"\\\" was found in multiple locations within the subdirectories of \"\n",
    "                            + rootdir + \"\\n\" + str(search_results) + \" \\nBe more specific about the file in question or delete any copies you might have.\")\n",
    "        \n",
    "        # get the one found path\n",
    "        found_path = glob.glob(\"**/*\" + filename + \"*\", recursive=True, root_dir=rootdir)[0]\n",
    "\n",
    "        # put them in the big dictionary of absolute file_paths, with the key being the file name (without extension)\n",
    "        file_paths[found_path[found_path.rfind(\"\\\\\")+1 : found_path.rfind(\".\")]] = rootdir + found_path\n",
    "\n",
    "    return file_paths\n",
    "\n",
    "def read_XRD(file_paths):\n",
    "    # read the data from the files to dataframes (skip headers for now)\n",
    "    XRD_dfs = {}\n",
    "    for filename in file_paths:\n",
    "        with open(file_paths[filename]) as f:\n",
    "            if (filename + \".ras\") in file_paths[filename]:\n",
    "                # TODO maybe do more checks to see if the given ras file has XRD data in it and not other nonsense?\n",
    "                lines = (line for line in f if not line.startswith('*'))\n",
    "                XRD_dfs[filename] = pd.DataFrame(np.loadtxt(lines, delimiter=' ')).drop(columns=2).rename(columns={0:\"angle\", 1:\"intensity\"})\n",
    "            elif (filename + \".csv\") in file_paths[filename]:\n",
    "                for line in f:\n",
    "                    if \"[Scan points]\" in line:\n",
    "                        break\n",
    "                \n",
    "                # in python the iterating variable is kept outside for loop. Here reaching EoF gives an empty string\n",
    "                if \"\" == line:\n",
    "                    raise Exception(\"You wanted to read \\'\" + filename + \"\\', which is indeed a csv file, but not an output of the powder XRD machine.\")\n",
    "                \n",
    "                # no need for the header parameter: the file reader has already iterated past the header\n",
    "                XRD_dfs[filename] = pd.read_csv(f, delimiter=\", \", engine=\"python\").drop(columns=[\"TimePerStep\", \"ESD\"]).rename(columns={\"Angle\": \"angle\", \"Intensity\":\"intensity\"})\n",
    "            else:\n",
    "                raise Exception(\"The file given, \" + filename + \" is not a csv or a ras file, which means it's probably not XRD data. Check your inputs.\")\n",
    "            \n",
    "    return XRD_dfs\n",
    "\n",
    "def read_peaks(file_paths):\n",
    "    peak_dfs = {}\n",
    "    for filename in file_paths:\n",
    "        with open(file_paths[filename]) as f:\n",
    "            peak_dfs[filename] = pd.read_csv(f, delimiter=\"\\t\").drop(columns=[\"H\", \"K\", \"L\", \"D-VALUE\", \"MULT\"])\n",
    "    \n",
    "    return peak_dfs\n",
    "\n",
    "def plot_XRD(XRD_dfs, peak_dfs,\n",
    "             XRD_labels=[], peak_labels=[], fig_title=\"XRD\",\n",
    "             min_angle=0, max_angle=120, smoothing_window_angle=0.001,\n",
    "             save_fig=False):\n",
    "    \n",
    "    # check if the user gave enough labels\n",
    "    def fix_labels(dfs_length, labels, stuffing):\n",
    "        if (dfs_length < len(labels)):\n",
    "            labels = labels[0:dfs_length]\n",
    "        else:\n",
    "            [labels.append(stuffing) for i in np.arange(dfs_length - len(labels))]\n",
    "        return labels\n",
    "    \n",
    "    XRD_labels = fix_labels(len(XRD_dfs), XRD_labels, \"XRD label\")\n",
    "    peak_labels = fix_labels(len(peak_dfs), peak_labels, \"peak label\")\n",
    "    \n",
    "    #def impose_boundaries(dfs):\n",
    "\n",
    "        \n",
    "\n",
    "\n",
    "\"\"\"\n",
    "read_XRD([\"sub_glass_sample_8\"])[\"sub_glass_sample_8\"]\n",
    "\n",
    "filepaths = get_filepaths(\"BFO_sample4_secondsputtering\")\n",
    "read_XRD(filepaths)[\"BFO_sample4_secondsputtering\"]\n",
    "\n",
    "filepaths = get_filepaths([\"peaks_BFO\", \"peaks_Bi2\"])\n",
    "read_peaks(filepaths)\n",
    "\"\"\"\n"
   ]
  },
  {
   "cell_type": "code",
   "execution_count": 44,
   "metadata": {},
   "outputs": [
    {
     "name": "stdout",
     "output_type": "stream",
     "text": [
      "10 0\n"
     ]
    }
   ],
   "source": [
    "\n",
    "for i in np.arange(9):\n",
    "    p = 0\n",
    "    i += 2\n",
    "print(i, p)"
   ]
  },
  {
   "cell_type": "code",
   "execution_count": 42,
   "metadata": {},
   "outputs": [
    {
     "data": {
      "text/plain": [
       "_io.TextIOWrapper"
      ]
     },
     "execution_count": 42,
     "metadata": {},
     "output_type": "execute_result"
    }
   ],
   "source": [
    "f = open(os.getcwd() + \"/data/annealed/ann_BFO_sample_1.csv\")\n",
    "type(f)"
   ]
  },
  {
   "cell_type": "code",
   "execution_count": null,
   "metadata": {},
   "outputs": [],
   "source": []
  }
 ],
 "metadata": {
  "kernelspec": {
   "display_name": "Python 3",
   "language": "python",
   "name": "python3"
  },
  "language_info": {
   "codemirror_mode": {
    "name": "ipython",
    "version": 3
   },
   "file_extension": ".py",
   "mimetype": "text/x-python",
   "name": "python",
   "nbconvert_exporter": "python",
   "pygments_lexer": "ipython3",
   "version": "3.11.2"
  },
  "orig_nbformat": 4
 },
 "nbformat": 4,
 "nbformat_minor": 2
}
